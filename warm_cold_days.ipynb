{
  "nbformat": 4,
  "nbformat_minor": 0,
  "metadata": {
    "colab": {
      "name": "warm_cold_days.ipynb",
      "provenance": [],
      "authorship_tag": "ABX9TyPGUe5A4qo+vxsADYHavSeV"
    },
    "kernelspec": {
      "name": "python3",
      "display_name": "Python 3"
    },
    "language_info": {
      "name": "python"
    }
  },
  "cells": [
    {
      "cell_type": "code",
      "execution_count": 1,
      "metadata": {
        "colab": {
          "base_uri": "https://localhost:8080/"
        },
        "id": "JrocQVbR_luU",
        "outputId": "2d9bde56-0495-439e-f42b-f7916e52b2f9"
      },
      "outputs": [
        {
          "output_type": "stream",
          "name": "stdout",
          "text": [
            "Requirement already satisfied: openpyxl in /usr/local/lib/python3.7/dist-packages (3.0.9)\n",
            "Requirement already satisfied: et-xmlfile in /usr/local/lib/python3.7/dist-packages (from openpyxl) (1.1.0)\n",
            "Collecting xlsxwriter\n",
            "  Downloading XlsxWriter-3.0.2-py3-none-any.whl (149 kB)\n",
            "\u001b[K     |████████████████████████████████| 149 kB 7.6 MB/s \n",
            "\u001b[?25hInstalling collected packages: xlsxwriter\n",
            "Successfully installed xlsxwriter-3.0.2\n",
            "Requirement already satisfied: xlrd in /usr/local/lib/python3.7/dist-packages (1.1.0)\n",
            "Mounted at /content/drive\n",
            "/content/drive/My Drive/Colab Notebooks/TFG\n"
          ]
        }
      ],
      "source": [
        "!pip install --upgrade openpyxl\n",
        "import openpyxl\n",
        "import pandas as pd\n",
        "import numpy as np\n",
        "!pip install xlsxwriter\n",
        "!pip install xlrd\n",
        "from google.colab import drive \n",
        "drive.mount('/content/drive')\n",
        "%cd '/content/drive/My Drive/Colab Notebooks/TFG'\n"
      ]
    },
    {
      "cell_type": "code",
      "source": [
        "!ls\n"
      ],
      "metadata": {
        "colab": {
          "base_uri": "https://localhost:8080/"
        },
        "id": "7mmFBC1nAGq7",
        "outputId": "dceb7695-7915-498e-d614-87b99103e37a"
      },
      "execution_count": 2,
      "outputs": [
        {
          "output_type": "stream",
          "name": "stdout",
          "text": [
            "acoruña_datos.xlsx  percentiles\t\tvalencia_datos.xlsx\n",
            "madrid_datos.xlsx   sevilla_datos.xlsx\twarm_cold_days.ipynb\n"
          ]
        }
      ]
    },
    {
      "cell_type": "code",
      "source": [
        "datos_madrid = 'madrid_datos.xlsx'\n",
        "df_madrid = pd.read_excel(datos_madrid)\n",
        "tn = df_madrid.columns"
      ],
      "metadata": {
        "id": "Iz0o8S2eBW2l"
      },
      "execution_count": 3,
      "outputs": []
    },
    {
      "cell_type": "code",
      "source": [
        "spring = df_madrid[df_madrid.month.isin([3,4,5])]\n",
        "summer = df_madrid[df_madrid.month.isin([6,7,8])]\n",
        "fall = df_madrid[df_madrid.month.isin([9,10,11])]\n",
        "winter = df_madrid[df_madrid.month.isin([12,1,2])]\n",
        "winter_tn10 = -5\n",
        "winter_tn90 = 72\n",
        "winter_tx10 = 66\n",
        "winter_tx90 = 146\n",
        "summer_tn10 = 128\n",
        "summer_tn90 = 213\n",
        "summer_tx10 = 236\n",
        "summer_tx90 = 350\n",
        "fall_tn10 = 40\n",
        "fall_tn90 = 170\n",
        "fall_tx10 = 113\n",
        "fall_tx90 = 285.1\n",
        "spring_tn10 = 32\n",
        "spring_tn90 = 129\n",
        "spring_tx10 = 118\n",
        "spring_tx90 = 250"
      ],
      "metadata": {
        "id": "OsMp3X30C5in"
      },
      "execution_count": 4,
      "outputs": []
    },
    {
      "cell_type": "code",
      "source": [
        "def years_new (i,f):\n",
        "  years = []\n",
        "  while i <= f:\n",
        "    years.append(i)\n",
        "    i+=1 \n",
        "  return years\n",
        "years = years_new(1950,2019)\n",
        "years_data = {'year': years}\n",
        "df = pd.DataFrame(years_data)"
      ],
      "metadata": {
        "colab": {
          "base_uri": "https://localhost:8080/",
          "height": 424
        },
        "id": "GN0CDSlcC0Kf",
        "outputId": "9e4e31c2-441c-4082-beb5-aff5819c0c8a"
      },
      "execution_count": 46,
      "outputs": [
        {
          "output_type": "execute_result",
          "data": {
            "text/html": [
              "\n",
              "  <div id=\"df-94a261df-b036-42e4-8570-514079f54670\">\n",
              "    <div class=\"colab-df-container\">\n",
              "      <div>\n",
              "<style scoped>\n",
              "    .dataframe tbody tr th:only-of-type {\n",
              "        vertical-align: middle;\n",
              "    }\n",
              "\n",
              "    .dataframe tbody tr th {\n",
              "        vertical-align: top;\n",
              "    }\n",
              "\n",
              "    .dataframe thead th {\n",
              "        text-align: right;\n",
              "    }\n",
              "</style>\n",
              "<table border=\"1\" class=\"dataframe\">\n",
              "  <thead>\n",
              "    <tr style=\"text-align: right;\">\n",
              "      <th></th>\n",
              "      <th>year</th>\n",
              "    </tr>\n",
              "  </thead>\n",
              "  <tbody>\n",
              "    <tr>\n",
              "      <th>0</th>\n",
              "      <td>1950</td>\n",
              "    </tr>\n",
              "    <tr>\n",
              "      <th>1</th>\n",
              "      <td>1951</td>\n",
              "    </tr>\n",
              "    <tr>\n",
              "      <th>2</th>\n",
              "      <td>1952</td>\n",
              "    </tr>\n",
              "    <tr>\n",
              "      <th>3</th>\n",
              "      <td>1953</td>\n",
              "    </tr>\n",
              "    <tr>\n",
              "      <th>4</th>\n",
              "      <td>1954</td>\n",
              "    </tr>\n",
              "    <tr>\n",
              "      <th>...</th>\n",
              "      <td>...</td>\n",
              "    </tr>\n",
              "    <tr>\n",
              "      <th>65</th>\n",
              "      <td>2015</td>\n",
              "    </tr>\n",
              "    <tr>\n",
              "      <th>66</th>\n",
              "      <td>2016</td>\n",
              "    </tr>\n",
              "    <tr>\n",
              "      <th>67</th>\n",
              "      <td>2017</td>\n",
              "    </tr>\n",
              "    <tr>\n",
              "      <th>68</th>\n",
              "      <td>2018</td>\n",
              "    </tr>\n",
              "    <tr>\n",
              "      <th>69</th>\n",
              "      <td>2019</td>\n",
              "    </tr>\n",
              "  </tbody>\n",
              "</table>\n",
              "<p>70 rows × 1 columns</p>\n",
              "</div>\n",
              "      <button class=\"colab-df-convert\" onclick=\"convertToInteractive('df-94a261df-b036-42e4-8570-514079f54670')\"\n",
              "              title=\"Convert this dataframe to an interactive table.\"\n",
              "              style=\"display:none;\">\n",
              "        \n",
              "  <svg xmlns=\"http://www.w3.org/2000/svg\" height=\"24px\"viewBox=\"0 0 24 24\"\n",
              "       width=\"24px\">\n",
              "    <path d=\"M0 0h24v24H0V0z\" fill=\"none\"/>\n",
              "    <path d=\"M18.56 5.44l.94 2.06.94-2.06 2.06-.94-2.06-.94-.94-2.06-.94 2.06-2.06.94zm-11 1L8.5 8.5l.94-2.06 2.06-.94-2.06-.94L8.5 2.5l-.94 2.06-2.06.94zm10 10l.94 2.06.94-2.06 2.06-.94-2.06-.94-.94-2.06-.94 2.06-2.06.94z\"/><path d=\"M17.41 7.96l-1.37-1.37c-.4-.4-.92-.59-1.43-.59-.52 0-1.04.2-1.43.59L10.3 9.45l-7.72 7.72c-.78.78-.78 2.05 0 2.83L4 21.41c.39.39.9.59 1.41.59.51 0 1.02-.2 1.41-.59l7.78-7.78 2.81-2.81c.8-.78.8-2.07 0-2.86zM5.41 20L4 18.59l7.72-7.72 1.47 1.35L5.41 20z\"/>\n",
              "  </svg>\n",
              "      </button>\n",
              "      \n",
              "  <style>\n",
              "    .colab-df-container {\n",
              "      display:flex;\n",
              "      flex-wrap:wrap;\n",
              "      gap: 12px;\n",
              "    }\n",
              "\n",
              "    .colab-df-convert {\n",
              "      background-color: #E8F0FE;\n",
              "      border: none;\n",
              "      border-radius: 50%;\n",
              "      cursor: pointer;\n",
              "      display: none;\n",
              "      fill: #1967D2;\n",
              "      height: 32px;\n",
              "      padding: 0 0 0 0;\n",
              "      width: 32px;\n",
              "    }\n",
              "\n",
              "    .colab-df-convert:hover {\n",
              "      background-color: #E2EBFA;\n",
              "      box-shadow: 0px 1px 2px rgba(60, 64, 67, 0.3), 0px 1px 3px 1px rgba(60, 64, 67, 0.15);\n",
              "      fill: #174EA6;\n",
              "    }\n",
              "\n",
              "    [theme=dark] .colab-df-convert {\n",
              "      background-color: #3B4455;\n",
              "      fill: #D2E3FC;\n",
              "    }\n",
              "\n",
              "    [theme=dark] .colab-df-convert:hover {\n",
              "      background-color: #434B5C;\n",
              "      box-shadow: 0px 1px 3px 1px rgba(0, 0, 0, 0.15);\n",
              "      filter: drop-shadow(0px 1px 2px rgba(0, 0, 0, 0.3));\n",
              "      fill: #FFFFFF;\n",
              "    }\n",
              "  </style>\n",
              "\n",
              "      <script>\n",
              "        const buttonEl =\n",
              "          document.querySelector('#df-94a261df-b036-42e4-8570-514079f54670 button.colab-df-convert');\n",
              "        buttonEl.style.display =\n",
              "          google.colab.kernel.accessAllowed ? 'block' : 'none';\n",
              "\n",
              "        async function convertToInteractive(key) {\n",
              "          const element = document.querySelector('#df-94a261df-b036-42e4-8570-514079f54670');\n",
              "          const dataTable =\n",
              "            await google.colab.kernel.invokeFunction('convertToInteractive',\n",
              "                                                     [key], {});\n",
              "          if (!dataTable) return;\n",
              "\n",
              "          const docLinkHtml = 'Like what you see? Visit the ' +\n",
              "            '<a target=\"_blank\" href=https://colab.research.google.com/notebooks/data_table.ipynb>data table notebook</a>'\n",
              "            + ' to learn more about interactive tables.';\n",
              "          element.innerHTML = '';\n",
              "          dataTable['output_type'] = 'display_data';\n",
              "          await google.colab.output.renderOutput(dataTable, element);\n",
              "          const docLink = document.createElement('div');\n",
              "          docLink.innerHTML = docLinkHtml;\n",
              "          element.appendChild(docLink);\n",
              "        }\n",
              "      </script>\n",
              "    </div>\n",
              "  </div>\n",
              "  "
            ],
            "text/plain": [
              "    year\n",
              "0   1950\n",
              "1   1951\n",
              "2   1952\n",
              "3   1953\n",
              "4   1954\n",
              "..   ...\n",
              "65  2015\n",
              "66  2016\n",
              "67  2017\n",
              "68  2018\n",
              "69  2019\n",
              "\n",
              "[70 rows x 1 columns]"
            ]
          },
          "metadata": {},
          "execution_count": 46
        }
      ]
    },
    {
      "cell_type": "markdown",
      "source": [
        "warm days "
      ],
      "metadata": {
        "id": "lAiF--V_Aiun"
      }
    },
    {
      "cell_type": "code",
      "source": [
        "from numpy.lib.function_base import percentile\n",
        "def warm_days_TN (percentil,year_i,year_f,season):\n",
        "  i = year_i \n",
        "  warm_day = []\n",
        "  while i < year_f:\n",
        "    year = season[season.year.isin([i])]\n",
        "    days = len(year[year.TN > percentil])\n",
        "    \n",
        "    warm_day.append(days)\n",
        "    \n",
        "    i += 1 \n",
        "  return warm_day\n",
        "def winter_warm_d_TN(percentil,i,f,season):\n",
        "  r = [0]\n",
        "  while i < f:\n",
        "    x = season[season.year.isin([i]) & season.month.isin([12])]\n",
        "    y = season[season.year.isin([i+1]) & season.month.isin([1,2])]\n",
        "    z = len(x[x.TN > percentil]) + len(y[y.TN > percentil])\n",
        "    r.append(z)\n",
        "    i += 1\n",
        "  return r\n"
      ],
      "metadata": {
        "id": "vI3WVU0cAl0n"
      },
      "execution_count": 40,
      "outputs": []
    },
    {
      "cell_type": "code",
      "source": [
        "def warm_days_TX (percentil,year_i,year_f,season):\n",
        "  i = year_i \n",
        "  warm_day = []\n",
        "  while i < year_f:\n",
        "    year = season[season.year.isin([i])]\n",
        "    days = len(year[year.TX > percentil])\n",
        "    \n",
        "    warm_day.append(days)\n",
        "    \n",
        "    i += 1 \n",
        "  return warm_day\n",
        "def winter_warm_d_TX(percentil,i,f,season):\n",
        "  r = [0]\n",
        "  while i < f:\n",
        "    x = season[season.year.isin([i]) & season.month.isin([12])]\n",
        "    y = season[season.year.isin([i+1]) & season.month.isin([1,2])]\n",
        "    z = len(x[x.TX > percentil]) + len(y[y.TX > percentil])\n",
        "    r.append(z)\n",
        "    i += 1\n",
        "  return r\n",
        "\n",
        "\n",
        "\n"
      ],
      "metadata": {
        "id": "ysA0jvsFKk09"
      },
      "execution_count": 42,
      "outputs": []
    },
    {
      "cell_type": "markdown",
      "source": [
        "Cold days"
      ],
      "metadata": {
        "id": "9_oIuNbdMkqt"
      }
    },
    {
      "cell_type": "code",
      "source": [
        "def cold_days_TN (percentil,year_i,year_f,season):\n",
        "  i = year_i \n",
        "  cold_day = []\n",
        "  while i < year_f:\n",
        "    year = season[season.year.isin([i])]\n",
        "    days = len(year[year.TN < percentil])\n",
        "    \n",
        "    cold_day.append(days)\n",
        "    \n",
        "    i += 1 \n",
        "  return cold_day\n",
        "def winter_cold_d_TN(percentil,i,f,season):\n",
        "  r = [0]\n",
        "  while i < f:\n",
        "    x = season[season.year.isin([i]) & season.month.isin([12])]\n",
        "    y = season[season.year.isin([i+1]) & season.month.isin([1,2])]\n",
        "    z = len(x[x.TN < percentil]) + len(y[y.TN < percentil])\n",
        "    r.append(z)\n",
        "    i += 1\n",
        "  return r\n"
      ],
      "metadata": {
        "id": "JHP5qrszRmEA"
      },
      "execution_count": 43,
      "outputs": []
    },
    {
      "cell_type": "code",
      "source": [
        "def cold_days_TX (percentil,year_i,year_f,season):\n",
        "  i = year_i \n",
        "  cold_day = []\n",
        "  while i < year_f:\n",
        "    year = season[season.year.isin([i])]\n",
        "    days = len(year[year.TX < percentil])\n",
        "    \n",
        "    cold_day.append(days)\n",
        "    \n",
        "    i += 1 \n",
        "  return cold_day\n",
        "def winter_cold_d_TX(percentil,i,f,season):\n",
        "  r = [0]\n",
        "  while i < f:\n",
        "    x = season[season.year.isin([i]) & season.month.isin([12])]\n",
        "    y = season[season.year.isin([i+1]) & season.month.isin([1,2])]\n",
        "    z = len(x[x.TX < percentil]) + len(y[y.TX < percentil])\n",
        "    r.append(z)\n",
        "    i += 1\n",
        "  return r\n",
        "\n",
        "\n",
        "\n"
      ],
      "metadata": {
        "id": "rSXSEUp8Lyeu"
      },
      "execution_count": 44,
      "outputs": []
    },
    {
      "cell_type": "code",
      "source": [
        "df['tn_warm_d_spring'] = warm_days_TN(spring_tn90,1950,2020,spring)\n",
        "df['tx_warm_d_spring'] = warm_days_TX(spring_tx90,1950,2020,spring)\n",
        "df['tn_warm_d_summer'] = warm_days_TN(summer_tn90,1950,2020,summer)\n",
        "df['tx_warm_d_summer'] = warm_days_TX(summer_tx90,1950,2020,summer)\n",
        "df['tn_warm_d_fall'] = warm_days_TN(fall_tn90,1950,2020,fall)\n",
        "df['tx_warm_d_fall'] = warm_days_TX(fall_tx90,1950,2020,fall)\n",
        "df['tn_warm_d_winter'] = winter_warm_d_TN(winter_tn90,1950,2019,winter)\n",
        "df['tx_warm_d_winter'] = winter_warm_d_TX(winter_tx90,1950,2019,winter)\n",
        "df['tn_cold_d_spring'] = cold_days_TN (winter_tn10,1950,2020,spring)\n",
        "df['tx_cold_d_spring'] = cold_days_TX(winter_tx10,1950,2020,spring)\n",
        "df['tn_cold_d_summer']= cold_days_TN (summer_tn10,1950,2020,summer)\n",
        "df['tx_cold_d_summer'] = cold_days_TX(summer_tx10,1950,2020,summer)\n",
        "df['tn_cold_d_fall']= cold_days_TN (fall_tn10,1950,2020,fall)\n",
        "df['tx_cold_d_fall']= cold_days_TX (fall_tx10,1950,2020,fall)\n",
        "df['tn_cold_d_winter'] = winter_cold_d_TN(winter_tn90,1950,2019,winter)\n",
        "df['tx_cold_d_winter'] = winter_cold_d_TX(winter_tx90,1950,2019,winter)"
      ],
      "metadata": {
        "id": "YRZXDp-SC5Zx"
      },
      "execution_count": 47,
      "outputs": []
    },
    {
      "cell_type": "code",
      "source": [
        "df.to_excel(\"days_madrid.xlsx\",sheet_name='Madrid',index=None)"
      ],
      "metadata": {
        "id": "QfUSttpPHJpV"
      },
      "execution_count": 51,
      "outputs": []
    }
  ]
}